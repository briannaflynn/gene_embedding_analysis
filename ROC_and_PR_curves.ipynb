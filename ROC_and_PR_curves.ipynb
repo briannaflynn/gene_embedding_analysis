{
 "cells": [
  {
   "cell_type": "code",
   "execution_count": 6,
   "id": "d3a09eee-cbe4-449e-ae27-55f49d1d7200",
   "metadata": {},
   "outputs": [],
   "source": [
    "import numpy as np\n",
    "from sklearn.metrics import roc_curve, auc\n",
    "import pandas as pd\n",
    "import matplotlib.pyplot as plt"
   ]
  },
  {
   "cell_type": "code",
   "execution_count": 7,
   "id": "84ffe2ae-c5ab-49ca-8387-d726f45d5559",
   "metadata": {},
   "outputs": [],
   "source": [
    "path = \"./gene_embedding_analysis/top1000pairs_corr_positive.ver2.tsv\""
   ]
  },
  {
   "cell_type": "code",
   "execution_count": 8,
   "id": "92983c5f-20a4-43a8-920d-7858be9c90c7",
   "metadata": {},
   "outputs": [],
   "source": [
    "df = pd.read_csv(path, delimiter=\"\\t\", header=None)"
   ]
  },
  {
   "cell_type": "code",
   "execution_count": 9,
   "id": "f6030796-f2c5-48ad-a6a2-5d36e885ea32",
   "metadata": {},
   "outputs": [],
   "source": [
    "df.columns = [\"Genes\", \"Corr\", \"Labels\"]"
   ]
  },
  {
   "cell_type": "code",
   "execution_count": 10,
   "id": "00bf31af-e033-4218-baf4-9965c527700b",
   "metadata": {},
   "outputs": [
    {
     "data": {
      "text/html": [
       "<div>\n",
       "<style scoped>\n",
       "    .dataframe tbody tr th:only-of-type {\n",
       "        vertical-align: middle;\n",
       "    }\n",
       "\n",
       "    .dataframe tbody tr th {\n",
       "        vertical-align: top;\n",
       "    }\n",
       "\n",
       "    .dataframe thead th {\n",
       "        text-align: right;\n",
       "    }\n",
       "</style>\n",
       "<table border=\"1\" class=\"dataframe\">\n",
       "  <thead>\n",
       "    <tr style=\"text-align: right;\">\n",
       "      <th></th>\n",
       "      <th>Genes</th>\n",
       "      <th>Corr</th>\n",
       "      <th>Labels</th>\n",
       "    </tr>\n",
       "  </thead>\n",
       "  <tbody>\n",
       "    <tr>\n",
       "      <th>0</th>\n",
       "      <td>('ENSG00000001629', 'ENSG00000140718')</td>\n",
       "      <td>0.886503</td>\n",
       "      <td>1</td>\n",
       "    </tr>\n",
       "    <tr>\n",
       "      <th>1</th>\n",
       "      <td>('ENSG00000001629', 'ENSG00000110075')</td>\n",
       "      <td>0.885919</td>\n",
       "      <td>1</td>\n",
       "    </tr>\n",
       "    <tr>\n",
       "      <th>2</th>\n",
       "      <td>('ENSG00000002016', 'ENSG00000179532')</td>\n",
       "      <td>0.876782</td>\n",
       "      <td>1</td>\n",
       "    </tr>\n",
       "    <tr>\n",
       "      <th>3</th>\n",
       "      <td>('ENSG00000004534', 'ENSG00000115464')</td>\n",
       "      <td>0.875645</td>\n",
       "      <td>0</td>\n",
       "    </tr>\n",
       "    <tr>\n",
       "      <th>4</th>\n",
       "      <td>('ENSG00000001629', 'ENSG00000077254')</td>\n",
       "      <td>0.873854</td>\n",
       "      <td>1</td>\n",
       "    </tr>\n",
       "    <tr>\n",
       "      <th>...</th>\n",
       "      <td>...</td>\n",
       "      <td>...</td>\n",
       "      <td>...</td>\n",
       "    </tr>\n",
       "    <tr>\n",
       "      <th>995</th>\n",
       "      <td>('ENSG00000000457', 'ENSG00000179532')</td>\n",
       "      <td>0.703682</td>\n",
       "      <td>0</td>\n",
       "    </tr>\n",
       "    <tr>\n",
       "      <th>996</th>\n",
       "      <td>('ENSG00000004897', 'ENSG00000197937')</td>\n",
       "      <td>0.703580</td>\n",
       "      <td>1</td>\n",
       "    </tr>\n",
       "    <tr>\n",
       "      <th>997</th>\n",
       "      <td>('ENSG00000147140', 'ENSG00000167088')</td>\n",
       "      <td>0.703576</td>\n",
       "      <td>1</td>\n",
       "    </tr>\n",
       "    <tr>\n",
       "      <th>998</th>\n",
       "      <td>('ENSG00000005801', 'ENSG00000136381')</td>\n",
       "      <td>0.703547</td>\n",
       "      <td>1</td>\n",
       "    </tr>\n",
       "    <tr>\n",
       "      <th>999</th>\n",
       "      <td>('ENSG00000000938', 'ENSG00000163131')</td>\n",
       "      <td>0.703518</td>\n",
       "      <td>1</td>\n",
       "    </tr>\n",
       "  </tbody>\n",
       "</table>\n",
       "<p>1000 rows × 3 columns</p>\n",
       "</div>"
      ],
      "text/plain": [
       "                                      Genes      Corr  Labels\n",
       "0    ('ENSG00000001629', 'ENSG00000140718')  0.886503       1\n",
       "1    ('ENSG00000001629', 'ENSG00000110075')  0.885919       1\n",
       "2    ('ENSG00000002016', 'ENSG00000179532')  0.876782       1\n",
       "3    ('ENSG00000004534', 'ENSG00000115464')  0.875645       0\n",
       "4    ('ENSG00000001629', 'ENSG00000077254')  0.873854       1\n",
       "..                                      ...       ...     ...\n",
       "995  ('ENSG00000000457', 'ENSG00000179532')  0.703682       0\n",
       "996  ('ENSG00000004897', 'ENSG00000197937')  0.703580       1\n",
       "997  ('ENSG00000147140', 'ENSG00000167088')  0.703576       1\n",
       "998  ('ENSG00000005801', 'ENSG00000136381')  0.703547       1\n",
       "999  ('ENSG00000000938', 'ENSG00000163131')  0.703518       1\n",
       "\n",
       "[1000 rows x 3 columns]"
      ]
     },
     "execution_count": 10,
     "metadata": {},
     "output_type": "execute_result"
    }
   ],
   "source": [
    "df"
   ]
  },
  {
   "cell_type": "code",
   "execution_count": 11,
   "id": "4af96a4e-4dc4-4cfe-bc09-b2201be51a1c",
   "metadata": {},
   "outputs": [],
   "source": [
    "y = df[\"Labels\"].to_numpy()"
   ]
  },
  {
   "cell_type": "code",
   "execution_count": 12,
   "id": "e908823c-b55d-426e-bdff-a0123270bc37",
   "metadata": {},
   "outputs": [],
   "source": [
    "scores = df[\"Corr\"].to_numpy()"
   ]
  },
  {
   "cell_type": "code",
   "execution_count": 13,
   "id": "387375bf-0a02-4960-ab0d-36026787e4a9",
   "metadata": {},
   "outputs": [],
   "source": [
    "fpr, tpr, thresholds = roc_curve(y, scores)"
   ]
  },
  {
   "cell_type": "code",
   "execution_count": 14,
   "id": "546aa113-2e07-46ad-83c8-062f3877aeb7",
   "metadata": {},
   "outputs": [],
   "source": [
    "def plot_auc(fpr, tpr):\n",
    "\n",
    "    # Compute the AUC (Area Under the Curve)\n",
    "    roc_auc = auc(fpr, tpr)\n",
    "    \n",
    "    # Plot the ROC curve\n",
    "    plt.figure(figsize=(8, 6))\n",
    "    plt.plot(fpr, tpr, color='blue', lw=2, label=f'ROC curve (AUC = {roc_auc:.2f})')\n",
    "    plt.plot([0, 1], [0, 1], color='gray', linestyle='--')  # Diagonal line\n",
    "    plt.xlim([0.0, 1.0])\n",
    "    plt.ylim([0.0, 1.05])\n",
    "    plt.xlabel('False Positive Rate')\n",
    "    plt.ylabel('True Positive Rate')\n",
    "    plt.title('Receiver Operating Characteristic (ROC) Curve')\n",
    "    plt.legend(loc='lower right')\n",
    "    plt.grid()\n",
    "    plt.show()"
   ]
  },
  {
   "cell_type": "code",
   "execution_count": 15,
   "id": "fb8d8858-aebe-49ac-ac18-e172c9fc1988",
   "metadata": {},
   "outputs": [
    {
     "data": {
      "image/png": "[encoded data removed]",
      "text/plain": [
       "<Figure size 576x432 with 1 Axes>"
      ]
     },
     "metadata": {
      "needs_background": "light"
     },
     "output_type": "display_data"
    }
   ],
   "source": [
    "plot_auc(fpr, tpr)"
   ]
  },
  {
   "cell_type": "code",
   "execution_count": 16,
   "id": "b5b11e55-85eb-4b52-ae3c-e28766a1ae38",
   "metadata": {},
   "outputs": [],
   "source": [
    "from sklearn.metrics import precision_recall_curve"
   ]
  },
  {
   "cell_type": "code",
   "execution_count": 17,
   "id": "941cbcb2-42ba-45e5-aa11-b9dc91cd64c5",
   "metadata": {},
   "outputs": [],
   "source": [
    "precision, recall, thresholds = precision_recall_curve(y, scores)"
   ]
  },
  {
   "cell_type": "code",
   "execution_count": 18,
   "id": "3414f6a8-66c6-4463-8cee-e77dc2886bca",
   "metadata": {},
   "outputs": [],
   "source": [
    "import matplotlib.pyplot as plt\n",
    "from sklearn.metrics import auc\n",
    "\n",
    "def plot_precision_recall(precision, recall):\n",
    "    # Compute the AUC (Area Under the Curve) for the PR curve\n",
    "    pr_auc = auc(recall, precision)\n",
    "    \n",
    "    # Plot the Precision-Recall curve\n",
    "    plt.figure(figsize=(8, 6))\n",
    "    plt.plot(recall, precision, color='blue', lw=2, label=f'PR curve (AUC = {pr_auc:.2f})')\n",
    "    plt.xlim([0.0, 1.0])\n",
    "    plt.ylim([0.0, 1.05])\n",
    "    plt.xlabel('Recall')\n",
    "    plt.ylabel('Precision')\n",
    "    plt.title('Precision-Recall Curve')\n",
    "    plt.legend(loc='lower left')\n",
    "    plt.grid()\n",
    "    plt.show()\n"
   ]
  },
  {
   "cell_type": "code",
   "execution_count": 19,
   "id": "33255ed6-dfd6-4ca2-a9fd-4c63d6bc6d64",
   "metadata": {},
   "outputs": [
    {
     "data": {
      "image/png": "[encoded data removed]",
      "text/plain": [
       "<Figure size 576x432 with 1 Axes>"
      ]
     },
     "metadata": {
      "needs_background": "light"
     },
     "output_type": "display_data"
    }
   ],
   "source": [
    "plot_precision_recall(precision, recall)"
   ]
  }
 ],
 "metadata": {
  "kernelspec": {
   "display_name": "Python 3 (ipykernel)",
   "language": "python",
   "name": "python3"
  },
  "language_info": {
   "codemirror_mode": {
    "name": "ipython",
    "version": 3
   },
   "file_extension": ".py",
   "mimetype": "text/x-python",
   "name": "python",
   "nbconvert_exporter": "python",
   "pygments_lexer": "ipython3",
   "version": "3.10.12"
  }
 },
 "nbformat": 4,
 "nbformat_minor": 5
}
