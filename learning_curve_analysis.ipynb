{
 "cells": [
  {
   "cell_type": "code",
   "execution_count": 1,
   "id": "c874cf9e-c346-467d-a02d-65217f6994ce",
   "metadata": {},
   "outputs": [],
   "source": [
    "import pandas as pd"
   ]
  },
  {
   "cell_type": "code",
   "execution_count": 5,
   "id": "b3e377c3-d4d3-4e5a-a4b2-2d96f5c5524e",
   "metadata": {},
   "outputs": [],
   "source": [
    "df = pd.DataFrame()\n",
    "\n",
    "for i in range(1, 6):\n",
    "    data = pd.read_csv(f\"balanced_fold_{i}.csv\")\n",
    "    df = pd.concat([df, data])"
   ]
  },
  {
   "cell_type": "code",
   "execution_count": 9,
   "id": "7579cc9c-5f35-45a1-96d3-037535fc3fe7",
   "metadata": {},
   "outputs": [],
   "source": [
    "df = df.drop_duplicates()"
   ]
  },
  {
   "cell_type": "code",
   "execution_count": 11,
   "id": "13be9b94-6c98-4e2c-b930-ebe744aaa692",
   "metadata": {},
   "outputs": [
    {
     "name": "stderr",
     "output_type": "stream",
     "text": [
      "/usr/lib/python3/dist-packages/pandas/core/frame.py:4906: SettingWithCopyWarning: \n",
      "A value is trying to be set on a copy of a slice from a DataFrame\n",
      "\n",
      "See the caveats in the documentation: https://pandas.pydata.org/pandas-docs/stable/user_guide/indexing.html#returning-a-view-versus-a-copy\n",
      "  return super().drop(\n"
     ]
    }
   ],
   "source": [
    "df.drop(columns=['Unnamed: 0', 'scGPT_CP_embeddings_Cosine_Similarity'],inplace=True)"
   ]
  },
  {
   "cell_type": "code",
   "execution_count": 14,
   "id": "3ae275c1-a964-4932-ac65-3a248f8368bb",
   "metadata": {},
   "outputs": [],
   "source": [
    "df = df.dropna()"
   ]
  },
  {
   "cell_type": "code",
   "execution_count": 44,
   "id": "c62cb3cf-9e68-44cf-ae82-72b761e92055",
   "metadata": {},
   "outputs": [],
   "source": [
    "from sklearn.model_selection import train_test_split\n",
    "from sklearn.metrics import roc_auc_score, average_precision_score\n",
    "import numpy as np\n",
    "import pandas as pd\n",
    "import matplotlib.pyplot as plt\n",
    "from tqdm import tqdm\n",
    "\n",
    "def custom_learning_curve_balanced_single_df(\n",
    "    model,\n",
    "    data_df,\n",
    "    feature_cols,\n",
    "    label_col='Same_Complex',\n",
    "    test_size=0.2,\n",
    "    train_sizes=np.linspace(0.1, 1.0, 10),\n",
    "    n_repeats=5,\n",
    "    random_state=42,\n",
    "    outfile_png = \"learning_curve.png\"\n",
    "):\n",
    "    \"\"\"\n",
    "    Custom learning curve with balanced train/test from a single dataframe.\n",
    "    \n",
    "    Parameters:\n",
    "    - model: sklearn estimator (fit & predict_proba).\n",
    "    - data_df: Full dataframe with features and label column.\n",
    "    - feature_cols: List of feature columns.\n",
    "    - label_col: Name of the label column (1 for positives, 0 for negatives).\n",
    "    - test_size: Fraction of data to reserve for test set.\n",
    "    - train_sizes: Fractions of training size to evaluate.\n",
    "    - n_repeats: Number of repeats per train size.\n",
    "    - random_state: Seed.\n",
    "\n",
    "    Returns:\n",
    "    - results_df: DataFrame with train_size, mean_auc, std_auc, mean_auprc, std_auprc.\n",
    "    \"\"\"\n",
    "\n",
    "    np.random.seed(random_state)\n",
    "    results = []\n",
    "\n",
    "    # Split into positives and negatives\n",
    "    pos_df = data_df[data_df[label_col] == 1]\n",
    "    neg_df = data_df[data_df[label_col] == 0]\n",
    "\n",
    "    # Stratified split for test set\n",
    "    pos_train_df, pos_test_df = train_test_split(pos_df, test_size=test_size, random_state=random_state, stratify=pos_df[[label_col]])\n",
    "    neg_train_df, neg_test_df = train_test_split(neg_df, test_size=test_size, random_state=random_state, stratify=neg_df[[label_col]])\n",
    "    \n",
    "    tr = pd.concat([pos_train_df, neg_train_df])\n",
    "    #print(tr.shape)\n",
    "    # Fixed balanced test set\n",
    "    test_df = pd.concat([pos_test_df, neg_test_df])\n",
    "    #print(test_df.shape)\n",
    "    test_X = test_df[feature_cols].values\n",
    "    test_y = test_df[label_col].values\n",
    "\n",
    "    max_pos_train = len(pos_train_df)\n",
    "\n",
    "    for frac in tqdm(train_sizes, desc=\"Training sizes\"):\n",
    "        aucs = []\n",
    "        auprcs = []\n",
    "\n",
    "        n_pos_samples = max(1, int(max_pos_train * frac))  # at least 1 positive\n",
    "\n",
    "        for repeat in range(n_repeats):\n",
    "            # Balanced sampling for train\n",
    "            sampled_pos = pos_train_df.sample(n=n_pos_samples, random_state=random_state + repeat)\n",
    "            sampled_neg = neg_train_df.sample(n=n_pos_samples, random_state=random_state + 100 + repeat)\n",
    "\n",
    "            train_df = pd.concat([sampled_pos, sampled_neg])\n",
    "            #print(train_df.shape)\n",
    "            train_X = train_df[feature_cols].values\n",
    "            train_y = train_df[label_col].values\n",
    "\n",
    "            # Train & Evaluate\n",
    "            model.fit(train_X, train_y)\n",
    "            y_scores = model.predict_proba(test_X)[:, 1]\n",
    "            #display(test_X)\n",
    "\n",
    "            auc = roc_auc_score(test_y, y_scores)\n",
    "            auprc = average_precision_score(test_y, y_scores)\n",
    "\n",
    "            aucs.append(auc)\n",
    "            auprcs.append(auprc)\n",
    "\n",
    "        # Aggregate results\n",
    "        results.append({\n",
    "            'train_size': n_pos_samples * 2,  # total samples used in train\n",
    "            'mean_auc': np.mean(aucs),\n",
    "            'std_auc': np.std(aucs),\n",
    "            'mean_auprc': np.mean(auprcs),\n",
    "            'std_auprc': np.std(auprcs)\n",
    "        })\n",
    "\n",
    "    results_df = pd.DataFrame(results)\n",
    "\n",
    "    # Plot\n",
    "    fig, ax = plt.subplots(figsize=(8, 6))\n",
    "    ax.errorbar(results_df['train_size'], results_df['mean_auc'], yerr=results_df['std_auc'], label='AUROC', marker='o')\n",
    "    ax.errorbar(results_df['train_size'], results_df['mean_auprc'], yerr=results_df['std_auprc'], label='AUPRC', marker='s')\n",
    "    ax.set_xlabel('Training Set Size (Pos + Neg samples)')\n",
    "    ax.set_ylabel('Performance')\n",
    "    ax.set_title('Learning Curve (Balanced Train/Test, No CV)')\n",
    "    #ax.set_ylim(bottom=0) \n",
    "    ax.legend()\n",
    "    ax.grid(True)\n",
    "    plt.tight_layout()\n",
    "    plt.savefig(outfile_png, dpi=300)\n",
    "    plt.show()\n",
    "\n",
    "    return results_df\n"
   ]
  },
  {
   "cell_type": "code",
   "execution_count": 45,
   "id": "ff9c4a1f-0228-4703-903b-9a823755bfe9",
   "metadata": {},
   "outputs": [],
   "source": [
    "features = ['scGPT_bc_embeddings_Cosine_Similarity',\n",
    "       'scGPT_pancancer_embeddings_Cosine_Similarity',\n",
    "       'scGPT_lung_embeddings_Cosine_Similarity',\n",
    "       'scGPT_heart_embeddings_Cosine_Similarity',\n",
    "       'scGPT_brain_embeddings_Cosine_Similarity',\n",
    "       'scGPT_kidney_embeddings_Cosine_Similarity',\n",
    "       'scGPT_human_embeddings_Cosine_Similarity',\n",
    "       'GF-6L30M_HUMANemb_Cosine_Similarity',\n",
    "       'GF-20L95M_HUMANemb_Cosine_Similarity',\n",
    "       'GF-12L95M_HUMANemb_Cosine_Similarity',\n",
    "       'GF-12L95MCANCER_UNIPROT_HUMANemb_Cosine_Similarity',\n",
    "       'GF-12L30M_HUMANemb_Cosine_Similarity', 'Correlation']"
   ]
  },
  {
   "cell_type": "code",
   "execution_count": 46,
   "id": "d7bd7875-b422-4398-8e92-eca7b62ee4e7",
   "metadata": {},
   "outputs": [
    {
     "data": {
      "text/plain": [
       "(49021, 16)"
      ]
     },
     "execution_count": 46,
     "metadata": {},
     "output_type": "execute_result"
    }
   ],
   "source": [
    "df[df['Same_Complex']==1].shape"
   ]
  },
  {
   "cell_type": "code",
   "execution_count": 47,
   "id": "10f61055-bdfa-42e7-bf29-24f63faf29b4",
   "metadata": {},
   "outputs": [
    {
     "data": {
      "text/plain": [
       "(49044, 16)"
      ]
     },
     "execution_count": 47,
     "metadata": {},
     "output_type": "execute_result"
    }
   ],
   "source": [
    "df[df['Same_Complex']==0].shape"
   ]
  },
  {
   "cell_type": "code",
   "execution_count": 48,
   "id": "5d0bcb17-75d4-4303-9b54-e32422e49b6f",
   "metadata": {},
   "outputs": [
    {
     "data": {
      "text/plain": [
       "array([0.01, 0.02, 0.03, 0.04, 0.05, 0.06, 0.07, 0.08, 0.09, 0.1 , 0.11,\n",
       "       0.12, 0.13, 0.14, 0.15, 0.16, 0.17, 0.18, 0.19, 0.2 , 0.21, 0.22,\n",
       "       0.23, 0.24, 0.25, 0.26, 0.27, 0.28, 0.29, 0.3 , 0.31, 0.32, 0.33,\n",
       "       0.34, 0.35, 0.36, 0.37, 0.38, 0.39, 0.4 , 0.41, 0.42, 0.43, 0.44,\n",
       "       0.45, 0.46, 0.47, 0.48, 0.49, 0.5 , 0.51, 0.52, 0.53, 0.54, 0.55,\n",
       "       0.56, 0.57, 0.58, 0.59, 0.6 , 0.61, 0.62, 0.63, 0.64, 0.65, 0.66,\n",
       "       0.67, 0.68, 0.69, 0.7 , 0.71, 0.72, 0.73, 0.74, 0.75, 0.76, 0.77,\n",
       "       0.78, 0.79, 0.8 , 0.81, 0.82, 0.83, 0.84, 0.85, 0.86, 0.87, 0.88,\n",
       "       0.89, 0.9 , 0.91, 0.92, 0.93, 0.94, 0.95, 0.96, 0.97, 0.98, 0.99,\n",
       "       1.  ])"
      ]
     },
     "execution_count": 48,
     "metadata": {},
     "output_type": "execute_result"
    }
   ],
   "source": [
    "train_sizes=np.linspace(0.01, 1.0, 100)\n",
    "train_sizes"
   ]
  },
  {
   "cell_type": "code",
   "execution_count": 49,
   "id": "6feeaadf-0490-43a5-9208-9b89215b8fea",
   "metadata": {},
   "outputs": [
    {
     "name": "stderr",
     "output_type": "stream",
     "text": [
      "Training sizes: 100%|██████████| 100/100 [00:52<00:00,  1.91it/s]\n"
     ]
    },
    {
     "data": {
      "image/png": "[encoded data removed]",
      "text/plain": [
       "<Figure size 576x432 with 1 Axes>"
      ]
     },
     "metadata": {
      "needs_background": "light"
     },
     "output_type": "display_data"
    }
   ],
   "source": [
    "from sklearn.linear_model import LogisticRegression\n",
    "\n",
    "results_df = custom_learning_curve_balanced_single_df(\n",
    "    model=LogisticRegression(max_iter=1000),\n",
    "    data_df=df,  # full dataframe with label_col present\n",
    "    feature_cols=features,  # your feature columns\n",
    "    label_col='Same_Complex',\n",
    "    test_size=0.2,\n",
    "    train_sizes=np.linspace(0.01, 1.0, 100),\n",
    "    n_repeats=5,\n",
    "    outfile_png = \"logistic_regression_learning_curve.png\"\n",
    ")"
   ]
  },
  {
   "cell_type": "code",
   "execution_count": 43,
   "id": "6eb1afae-d65e-4d86-93ce-bb37ee5e794e",
   "metadata": {},
   "outputs": [],
   "source": [
    "results_df.to_csv('logisitic_regression_learning_curve.csv', index=False)"
   ]
  },
  {
   "cell_type": "code",
   "execution_count": 51,
   "id": "f814e103-a35c-4e73-8731-6dd8a59d95fc",
   "metadata": {},
   "outputs": [],
   "source": [
    "from sklearn.ensemble import RandomForestClassifier\n",
    "from sklearn.svm import SVC\n",
    "\n",
    "rf_model = RandomForestClassifier(n_estimators=100, random_state=42)\n",
    "\n",
    "svm_model = SVC(kernel='rbf', probability=True, random_state=42)"
   ]
  },
  {
   "cell_type": "code",
   "execution_count": 52,
   "id": "0e91a6c5-4e57-4fa4-be86-9cfc02b55586",
   "metadata": {},
   "outputs": [
    {
     "name": "stderr",
     "output_type": "stream",
     "text": [
      "Training sizes: 100%|██████████| 10/10 [08:16<00:00, 49.66s/it]\n"
     ]
    },
    {
     "data": {
      "image/png": "[encoded data removed]",
      "text/plain": [
       "<Figure size 576x432 with 1 Axes>"
      ]
     },
     "metadata": {
      "needs_background": "light"
     },
     "output_type": "display_data"
    }
   ],
   "source": [
    "results_rf = custom_learning_curve_balanced_single_df(\n",
    "    model=rf_model,\n",
    "    data_df=df,\n",
    "    feature_cols=features,\n",
    "    label_col='Same_Complex',\n",
    "    outfile_png = 'random_forest_learning_curve.png'\n",
    ")"
   ]
  },
  {
   "cell_type": "code",
   "execution_count": null,
   "id": "a91a151d-27b7-4f3b-8ff2-1d616d9781b8",
   "metadata": {},
   "outputs": [],
   "source": [
    "results_svm = custom_learning_curve_balanced_single_df(\n",
    "    model=svm_model,\n",
    "    data_df=df,\n",
    "    feature_cols=features,\n",
    "    label_col='Same_Complex',\n",
    "    outfile_png = 'svm_learning_curve.png'\n",
    ")"
   ]
  },
  {
   "cell_type": "code",
   "execution_count": 54,
   "id": "159e3c4a-4ccc-4c9a-8fc6-541ce28f1a48",
   "metadata": {},
   "outputs": [
    {
     "ename": "NameError",
     "evalue": "name 'results_svm' is not defined",
     "output_type": "error",
     "traceback": [
      "\u001b[0;31m---------------------------------------------------------------------------\u001b[0m",
      "\u001b[0;31mNameError\u001b[0m                                 Traceback (most recent call last)",
      "\u001b[0;32m/tmp/ipykernel_2242/1673905980.py\u001b[0m in \u001b[0;36m<module>\u001b[0;34m\u001b[0m\n\u001b[1;32m      1\u001b[0m \u001b[0mresults_rf\u001b[0m\u001b[0;34m.\u001b[0m\u001b[0mto_csv\u001b[0m\u001b[0;34m(\u001b[0m\u001b[0;34m'random_forest_learning_curve.csv'\u001b[0m\u001b[0;34m,\u001b[0m \u001b[0mindex\u001b[0m\u001b[0;34m=\u001b[0m\u001b[0;32mFalse\u001b[0m\u001b[0;34m)\u001b[0m\u001b[0;34m\u001b[0m\u001b[0;34m\u001b[0m\u001b[0m\n\u001b[1;32m      2\u001b[0m \u001b[0;34m\u001b[0m\u001b[0m\n\u001b[0;32m----> 3\u001b[0;31m \u001b[0mresults_svm\u001b[0m\u001b[0;34m.\u001b[0m\u001b[0mto_csv\u001b[0m\u001b[0;34m(\u001b[0m\u001b[0;34m'svm_learning_curve.csv'\u001b[0m\u001b[0;34m,\u001b[0m\u001b[0mindex\u001b[0m\u001b[0;34m=\u001b[0m\u001b[0;32mFalse\u001b[0m\u001b[0;34m)\u001b[0m\u001b[0;34m\u001b[0m\u001b[0;34m\u001b[0m\u001b[0m\n\u001b[0m",
      "\u001b[0;31mNameError\u001b[0m: name 'results_svm' is not defined"
     ]
    }
   ],
   "source": [
    "results_rf.to_csv('random_forest_learning_curve.csv', index=False)\n",
    "\n",
    "results_svm.to_csv('svm_learning_curve.csv',index=False)"
   ]
  },
  {
   "cell_type": "code",
   "execution_count": null,
   "id": "2fdb9de8-64a8-42e2-a6dd-739d8aa8ffc9",
   "metadata": {},
   "outputs": [],
   "source": []
  }
 ],
 "metadata": {
  "kernelspec": {
   "display_name": "Python 3 (ipykernel)",
   "language": "python",
   "name": "python3"
  },
  "language_info": {
   "codemirror_mode": {
    "name": "ipython",
    "version": 3
   },
   "file_extension": ".py",
   "mimetype": "text/x-python",
   "name": "python",
   "nbconvert_exporter": "python",
   "pygments_lexer": "ipython3",
   "version": "3.10.12"
  }
 },
 "nbformat": 4,
 "nbformat_minor": 5
}
